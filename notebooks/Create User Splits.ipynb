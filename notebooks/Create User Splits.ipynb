{
 "cells": [
  {
   "cell_type": "markdown",
   "metadata": {},
   "source": [
    "# Окружение"
   ]
  },
  {
   "cell_type": "code",
   "execution_count": 1,
   "metadata": {},
   "outputs": [],
   "source": [
    "%reload_ext autoreload\n",
    "%autoreload 2"
   ]
  },
  {
   "cell_type": "code",
   "execution_count": 2,
   "metadata": {},
   "outputs": [],
   "source": [
    "import os\n",
    "import re\n",
    "import sys\n",
    "import glob\n",
    "import random\n",
    "import numpy as np\n",
    "import pandas as pd\n",
    "from shutil import copy\n",
    "from pprint import pprint\n",
    "\n",
    "from pathlib import Path\n",
    "from tqdm import tqdm_notebook\n",
    "from collections import defaultdict\n",
    "from itertools import chain\n",
    "from typing import List, Dict, Any, NoReturn, Tuple, Optional, Union\n",
    "\n",
    "pd.set_option('display.max_columns', None)\n",
    "pd.set_option('display.max_rows', None)\n",
    "pd.set_option('max_colwidth', 100)\n",
    "\n",
    "import warnings\n",
    "warnings.simplefilter('ignore')"
   ]
  },
  {
   "cell_type": "code",
   "execution_count": 3,
   "metadata": {},
   "outputs": [],
   "source": [
    "sys.path.insert(0, \"..\")\n",
    "from config import init_config, config"
   ]
  },
  {
   "cell_type": "markdown",
   "metadata": {},
   "source": [
    "## Определим пути"
   ]
  },
  {
   "cell_type": "code",
   "execution_count": 4,
   "metadata": {},
   "outputs": [],
   "source": [
    "GENERAL_DATA_DIR = Path('D:\\\\Data\\\\EyesSimulation Sessions\\\\Export3')\n",
    "\n",
    "init_config(\"../set_locations.ini\")\n",
    "TRAIN_DIR = config.get(\"DataPaths\", \"train_data\")\n",
    "OWNER_DIR = config.get(\"DataPaths\", \"owner_data\")\n",
    "RUN_DIR = config.get(\"DataPaths\", \"run_data\")"
   ]
  },
  {
   "cell_type": "markdown",
   "metadata": {},
   "source": [
    "# Целый датасет"
   ]
  },
  {
   "cell_type": "code",
   "execution_count": 5,
   "metadata": {
    "scrolled": true
   },
   "outputs": [
    {
     "name": "stdout",
     "output_type": "stream",
     "text": [
      "Number of sessions files avaliable: 243\n",
      "Number of users meta files avaliable: 243\n"
     ]
    }
   ],
   "source": [
    "sess_filenames = [fn for fn in glob.glob(str(GENERAL_DATA_DIR) + \"\\\\*.csv\") if not fn.endswith(\"_affmatrix.csv\")]\n",
    "print(f\"Number of sessions files avaliable: {len(sess_filenames)}\")\n",
    "\n",
    "users_filenames = glob.glob(str(GENERAL_DATA_DIR) + \"\\\\*.txt\")\n",
    "print(f\"Number of users meta files avaliable: {len(users_filenames)}\")"
   ]
  },
  {
   "cell_type": "code",
   "execution_count": 6,
   "metadata": {},
   "outputs": [
    {
     "name": "stdout",
     "output_type": "stream",
     "text": [
      "Unique users: 15\n"
     ]
    },
    {
     "data": {
      "text/html": [
       "<div>\n",
       "<style scoped>\n",
       "    .dataframe tbody tr th:only-of-type {\n",
       "        vertical-align: middle;\n",
       "    }\n",
       "\n",
       "    .dataframe tbody tr th {\n",
       "        vertical-align: top;\n",
       "    }\n",
       "\n",
       "    .dataframe thead th {\n",
       "        text-align: right;\n",
       "    }\n",
       "</style>\n",
       "<table border=\"1\" class=\"dataframe\">\n",
       "  <thead>\n",
       "    <tr style=\"text-align: right;\">\n",
       "      <th></th>\n",
       "      <th>name</th>\n",
       "      <th>user_fns</th>\n",
       "      <th>n_sessions</th>\n",
       "      <th>sess_fns</th>\n",
       "    </tr>\n",
       "  </thead>\n",
       "  <tbody>\n",
       "    <tr>\n",
       "      <th>0</th>\n",
       "      <td>Алина Танакова</td>\n",
       "      <td>[D:\\Data\\EyesSimulation Sessions\\Export3\\exp-2020-12-17_09-23-03_cat_f#1.mp4_metadata.txt, D:\\Da...</td>\n",
       "      <td>10</td>\n",
       "      <td>[D:\\Data\\EyesSimulation Sessions\\Export3\\exp-2020-12-17_09-23-03_cat_f#1.mp4.csv, D:\\Data\\EyesSi...</td>\n",
       "    </tr>\n",
       "    <tr>\n",
       "      <th>1</th>\n",
       "      <td>Ань Ту Чан</td>\n",
       "      <td>[D:\\Data\\EyesSimulation Sessions\\Export3\\exp-2020-12-16_14-02-57_cat_f#1.mp4_metadata.txt, D:\\Da...</td>\n",
       "      <td>10</td>\n",
       "      <td>[D:\\Data\\EyesSimulation Sessions\\Export3\\exp-2020-12-16_14-02-57_cat_f#1.mp4.csv, D:\\Data\\EyesSi...</td>\n",
       "    </tr>\n",
       "    <tr>\n",
       "      <th>2</th>\n",
       "      <td>Ван Туан Нгуен</td>\n",
       "      <td>[D:\\Data\\EyesSimulation Sessions\\Export3\\exp-2020-12-15_20-06-26_cat_f#1.mp4_metadata.txt, D:\\Da...</td>\n",
       "      <td>20</td>\n",
       "      <td>[D:\\Data\\EyesSimulation Sessions\\Export3\\exp-2020-12-15_20-06-26_cat_f#1.mp4.csv, D:\\Data\\EyesSi...</td>\n",
       "    </tr>\n",
       "    <tr>\n",
       "      <th>3</th>\n",
       "      <td>Вьет Данг Нгуен</td>\n",
       "      <td>[D:\\Data\\EyesSimulation Sessions\\Export3\\exp-2020-12-15_20-12-52_cat_f#1.mp4_metadata.txt, D:\\Da...</td>\n",
       "      <td>18</td>\n",
       "      <td>[D:\\Data\\EyesSimulation Sessions\\Export3\\exp-2020-12-15_20-12-52_cat_f#1.mp4.csv, D:\\Data\\EyesSi...</td>\n",
       "    </tr>\n",
       "    <tr>\n",
       "      <th>4</th>\n",
       "      <td>Вячяеслав Пинчук</td>\n",
       "      <td>[D:\\Data\\EyesSimulation Sessions\\Export3\\exp-2020-12-17_10-33-05_cat_f#1.mp4_metadata.txt, D:\\Da...</td>\n",
       "      <td>10</td>\n",
       "      <td>[D:\\Data\\EyesSimulation Sessions\\Export3\\exp-2020-12-17_10-33-05_cat_f#1.mp4.csv, D:\\Data\\EyesSi...</td>\n",
       "    </tr>\n",
       "    <tr>\n",
       "      <th>5</th>\n",
       "      <td>Даниил Бонк</td>\n",
       "      <td>[D:\\Data\\EyesSimulation Sessions\\Export3\\exp-2020-12-15_15-16-47_cat_f#1.mp4_metadata.txt, D:\\Da...</td>\n",
       "      <td>22</td>\n",
       "      <td>[D:\\Data\\EyesSimulation Sessions\\Export3\\exp-2020-12-15_15-16-47_cat_f#1.mp4.csv, D:\\Data\\EyesSi...</td>\n",
       "    </tr>\n",
       "    <tr>\n",
       "      <th>6</th>\n",
       "      <td>Динь Кыонг Ле</td>\n",
       "      <td>[D:\\Data\\EyesSimulation Sessions\\Export3\\exp-2020-12-15_16-00-08_cat_f#1.mp4_metadata.txt, D:\\Da...</td>\n",
       "      <td>20</td>\n",
       "      <td>[D:\\Data\\EyesSimulation Sessions\\Export3\\exp-2020-12-15_16-00-08_cat_f#1.mp4.csv, D:\\Data\\EyesSi...</td>\n",
       "    </tr>\n",
       "    <tr>\n",
       "      <th>7</th>\n",
       "      <td>Елизавета Новикова</td>\n",
       "      <td>[D:\\Data\\EyesSimulation Sessions\\Export3\\exp-2020-12-15_14-07-54_cat_f#1.mp4_metadata.txt, D:\\Da...</td>\n",
       "      <td>12</td>\n",
       "      <td>[D:\\Data\\EyesSimulation Sessions\\Export3\\exp-2020-12-15_14-07-54_cat_f#1.mp4.csv, D:\\Data\\EyesSi...</td>\n",
       "    </tr>\n",
       "    <tr>\n",
       "      <th>8</th>\n",
       "      <td>Куанг Хынг Нгуен</td>\n",
       "      <td>[D:\\Data\\EyesSimulation Sessions\\Export3\\exp-2020-12-15_18-08-40_cat_f#1.mp4_metadata.txt, D:\\Da...</td>\n",
       "      <td>21</td>\n",
       "      <td>[D:\\Data\\EyesSimulation Sessions\\Export3\\exp-2020-12-15_18-08-40_cat_f#1.mp4.csv, D:\\Data\\EyesSi...</td>\n",
       "    </tr>\n",
       "    <tr>\n",
       "      <th>9</th>\n",
       "      <td>Нят Чыонг Динь</td>\n",
       "      <td>[D:\\Data\\EyesSimulation Sessions\\Export3\\exp-2020-12-15_18-13-27_cat_f#1.mp4_metadata.txt, D:\\Da...</td>\n",
       "      <td>20</td>\n",
       "      <td>[D:\\Data\\EyesSimulation Sessions\\Export3\\exp-2020-12-15_18-13-27_cat_f#1.mp4.csv, D:\\Data\\EyesSi...</td>\n",
       "    </tr>\n",
       "    <tr>\n",
       "      <th>10</th>\n",
       "      <td>Тиен Зунг Май</td>\n",
       "      <td>[D:\\Data\\EyesSimulation Sessions\\Export3\\exp-2020-12-15_16-04-32_cat_f#1.mp4_metadata.txt, D:\\Da...</td>\n",
       "      <td>20</td>\n",
       "      <td>[D:\\Data\\EyesSimulation Sessions\\Export3\\exp-2020-12-15_16-04-32_cat_f#1.mp4.csv, D:\\Data\\EyesSi...</td>\n",
       "    </tr>\n",
       "    <tr>\n",
       "      <th>11</th>\n",
       "      <td>Тхи Киеу Линь Нгуен</td>\n",
       "      <td>[D:\\Data\\EyesSimulation Sessions\\Export3\\exp-2020-12-15_15-04-40_cat_f#1.mp4_metadata.txt, D:\\Da...</td>\n",
       "      <td>22</td>\n",
       "      <td>[D:\\Data\\EyesSimulation Sessions\\Export3\\exp-2020-12-15_15-04-40_cat_f#1.mp4.csv, D:\\Data\\EyesSi...</td>\n",
       "    </tr>\n",
       "    <tr>\n",
       "      <th>12</th>\n",
       "      <td>Хоанг Ань Чан</td>\n",
       "      <td>[D:\\Data\\EyesSimulation Sessions\\Export3\\exp-2020-12-15_15-54-29_cat_f#1.mp4_metadata.txt, D:\\Da...</td>\n",
       "      <td>20</td>\n",
       "      <td>[D:\\Data\\EyesSimulation Sessions\\Export3\\exp-2020-12-15_15-54-29_cat_f#1.mp4.csv, D:\\Data\\EyesSi...</td>\n",
       "    </tr>\n",
       "    <tr>\n",
       "      <th>13</th>\n",
       "      <td>Хыог Ли Фам</td>\n",
       "      <td>[D:\\Data\\EyesSimulation Sessions\\Export3\\exp-2020-12-15_20-22-26_cat_f#1.mp4_metadata.txt, D:\\Da...</td>\n",
       "      <td>10</td>\n",
       "      <td>[D:\\Data\\EyesSimulation Sessions\\Export3\\exp-2020-12-15_20-22-26_cat_f#1.mp4.csv, D:\\Data\\EyesSi...</td>\n",
       "    </tr>\n",
       "    <tr>\n",
       "      <th>14</th>\n",
       "      <td>Чунг Киен Ле</td>\n",
       "      <td>[D:\\Data\\EyesSimulation Sessions\\Export3\\exp-2020-12-15_18-02-43_cat_f#1.mp4_metadata.txt, D:\\Da...</td>\n",
       "      <td>8</td>\n",
       "      <td>[D:\\Data\\EyesSimulation Sessions\\Export3\\exp-2020-12-15_18-02-43_cat_f#1.mp4.csv, D:\\Data\\EyesSi...</td>\n",
       "    </tr>\n",
       "  </tbody>\n",
       "</table>\n",
       "</div>"
      ],
      "text/plain": [
       "                   name  \\\n",
       "0        Алина Танакова   \n",
       "1            Ань Ту Чан   \n",
       "2        Ван Туан Нгуен   \n",
       "3       Вьет Данг Нгуен   \n",
       "4      Вячяеслав Пинчук   \n",
       "5           Даниил Бонк   \n",
       "6         Динь Кыонг Ле   \n",
       "7    Елизавета Новикова   \n",
       "8      Куанг Хынг Нгуен   \n",
       "9        Нят Чыонг Динь   \n",
       "10        Тиен Зунг Май   \n",
       "11  Тхи Киеу Линь Нгуен   \n",
       "12        Хоанг Ань Чан   \n",
       "13          Хыог Ли Фам   \n",
       "14         Чунг Киен Ле   \n",
       "\n",
       "                                                                                               user_fns  \\\n",
       "0   [D:\\Data\\EyesSimulation Sessions\\Export3\\exp-2020-12-17_09-23-03_cat_f#1.mp4_metadata.txt, D:\\Da...   \n",
       "1   [D:\\Data\\EyesSimulation Sessions\\Export3\\exp-2020-12-16_14-02-57_cat_f#1.mp4_metadata.txt, D:\\Da...   \n",
       "2   [D:\\Data\\EyesSimulation Sessions\\Export3\\exp-2020-12-15_20-06-26_cat_f#1.mp4_metadata.txt, D:\\Da...   \n",
       "3   [D:\\Data\\EyesSimulation Sessions\\Export3\\exp-2020-12-15_20-12-52_cat_f#1.mp4_metadata.txt, D:\\Da...   \n",
       "4   [D:\\Data\\EyesSimulation Sessions\\Export3\\exp-2020-12-17_10-33-05_cat_f#1.mp4_metadata.txt, D:\\Da...   \n",
       "5   [D:\\Data\\EyesSimulation Sessions\\Export3\\exp-2020-12-15_15-16-47_cat_f#1.mp4_metadata.txt, D:\\Da...   \n",
       "6   [D:\\Data\\EyesSimulation Sessions\\Export3\\exp-2020-12-15_16-00-08_cat_f#1.mp4_metadata.txt, D:\\Da...   \n",
       "7   [D:\\Data\\EyesSimulation Sessions\\Export3\\exp-2020-12-15_14-07-54_cat_f#1.mp4_metadata.txt, D:\\Da...   \n",
       "8   [D:\\Data\\EyesSimulation Sessions\\Export3\\exp-2020-12-15_18-08-40_cat_f#1.mp4_metadata.txt, D:\\Da...   \n",
       "9   [D:\\Data\\EyesSimulation Sessions\\Export3\\exp-2020-12-15_18-13-27_cat_f#1.mp4_metadata.txt, D:\\Da...   \n",
       "10  [D:\\Data\\EyesSimulation Sessions\\Export3\\exp-2020-12-15_16-04-32_cat_f#1.mp4_metadata.txt, D:\\Da...   \n",
       "11  [D:\\Data\\EyesSimulation Sessions\\Export3\\exp-2020-12-15_15-04-40_cat_f#1.mp4_metadata.txt, D:\\Da...   \n",
       "12  [D:\\Data\\EyesSimulation Sessions\\Export3\\exp-2020-12-15_15-54-29_cat_f#1.mp4_metadata.txt, D:\\Da...   \n",
       "13  [D:\\Data\\EyesSimulation Sessions\\Export3\\exp-2020-12-15_20-22-26_cat_f#1.mp4_metadata.txt, D:\\Da...   \n",
       "14  [D:\\Data\\EyesSimulation Sessions\\Export3\\exp-2020-12-15_18-02-43_cat_f#1.mp4_metadata.txt, D:\\Da...   \n",
       "\n",
       "    n_sessions  \\\n",
       "0           10   \n",
       "1           10   \n",
       "2           20   \n",
       "3           18   \n",
       "4           10   \n",
       "5           22   \n",
       "6           20   \n",
       "7           12   \n",
       "8           21   \n",
       "9           20   \n",
       "10          20   \n",
       "11          22   \n",
       "12          20   \n",
       "13          10   \n",
       "14           8   \n",
       "\n",
       "                                                                                               sess_fns  \n",
       "0   [D:\\Data\\EyesSimulation Sessions\\Export3\\exp-2020-12-17_09-23-03_cat_f#1.mp4.csv, D:\\Data\\EyesSi...  \n",
       "1   [D:\\Data\\EyesSimulation Sessions\\Export3\\exp-2020-12-16_14-02-57_cat_f#1.mp4.csv, D:\\Data\\EyesSi...  \n",
       "2   [D:\\Data\\EyesSimulation Sessions\\Export3\\exp-2020-12-15_20-06-26_cat_f#1.mp4.csv, D:\\Data\\EyesSi...  \n",
       "3   [D:\\Data\\EyesSimulation Sessions\\Export3\\exp-2020-12-15_20-12-52_cat_f#1.mp4.csv, D:\\Data\\EyesSi...  \n",
       "4   [D:\\Data\\EyesSimulation Sessions\\Export3\\exp-2020-12-17_10-33-05_cat_f#1.mp4.csv, D:\\Data\\EyesSi...  \n",
       "5   [D:\\Data\\EyesSimulation Sessions\\Export3\\exp-2020-12-15_15-16-47_cat_f#1.mp4.csv, D:\\Data\\EyesSi...  \n",
       "6   [D:\\Data\\EyesSimulation Sessions\\Export3\\exp-2020-12-15_16-00-08_cat_f#1.mp4.csv, D:\\Data\\EyesSi...  \n",
       "7   [D:\\Data\\EyesSimulation Sessions\\Export3\\exp-2020-12-15_14-07-54_cat_f#1.mp4.csv, D:\\Data\\EyesSi...  \n",
       "8   [D:\\Data\\EyesSimulation Sessions\\Export3\\exp-2020-12-15_18-08-40_cat_f#1.mp4.csv, D:\\Data\\EyesSi...  \n",
       "9   [D:\\Data\\EyesSimulation Sessions\\Export3\\exp-2020-12-15_18-13-27_cat_f#1.mp4.csv, D:\\Data\\EyesSi...  \n",
       "10  [D:\\Data\\EyesSimulation Sessions\\Export3\\exp-2020-12-15_16-04-32_cat_f#1.mp4.csv, D:\\Data\\EyesSi...  \n",
       "11  [D:\\Data\\EyesSimulation Sessions\\Export3\\exp-2020-12-15_15-04-40_cat_f#1.mp4.csv, D:\\Data\\EyesSi...  \n",
       "12  [D:\\Data\\EyesSimulation Sessions\\Export3\\exp-2020-12-15_15-54-29_cat_f#1.mp4.csv, D:\\Data\\EyesSi...  \n",
       "13  [D:\\Data\\EyesSimulation Sessions\\Export3\\exp-2020-12-15_20-22-26_cat_f#1.mp4.csv, D:\\Data\\EyesSi...  \n",
       "14  [D:\\Data\\EyesSimulation Sessions\\Export3\\exp-2020-12-15_18-02-43_cat_f#1.mp4.csv, D:\\Data\\EyesSi...  "
      ]
     },
     "execution_count": 6,
     "metadata": {},
     "output_type": "execute_result"
    }
   ],
   "source": [
    "users_df = []\n",
    "for fn in users_filenames:\n",
    "    df = pd.read_csv(fn, delimiter = \";\", encoding=\"Windows-1251\", header=None, names=['name'])\n",
    "    df['name'] = df['name'].str.replace('\\t', ' ', regex=True)\n",
    "    df['name'] = df['name'].str.strip()\n",
    "    df['user_fns'] = fn\n",
    "    users_df.append(df)\n",
    "users_df = pd.concat(users_df).groupby(by='name').agg({'user_fns': lambda x: list(x)}).reset_index()\n",
    "users_df['n_sessions'] = users_df.user_fns.apply(lambda x: len(x))\n",
    "users_df['sess_fns'] = users_df.user_fns.apply(lambda x: [(\"_\".join(fn.split(\"_\")[:-1]) + \".csv\")\n",
    "                                                          for fn in x])\n",
    "print(f\"Unique users: {users_df.name.nunique()}\")\n",
    "users_df"
   ]
  },
  {
   "cell_type": "markdown",
   "metadata": {},
   "source": [
    "# Тест №1. \n",
    "1. Выбирается владелец и одна его запись (случайная);\n",
    "2. Выбирается случайные N записей других пользователей (из числа тех, у кого записей больше среднего) и M записей владельца (случайных, кроме выбранной в п.1);\n",
    "3. Сохраняются в ранее определенные пути и выбранные N+M записей исключаются из обучающего набора."
   ]
  },
  {
   "cell_type": "code",
   "execution_count": 8,
   "metadata": {},
   "outputs": [],
   "source": [
    "def copy_files_to_folder(filenames: List[str], to_folder: str):\n",
    "    for fn in tqdm_notebook(filenames, total=len(filenames)):\n",
    "        try:\n",
    "            copy(fn, to_folder)\n",
    "        except:\n",
    "            print(f\"Can't copy file {fn} to {to_folder}!\")\n",
    "            \n",
    "            \n",
    "def clear_folders(folders_paths: List[str]):\n",
    "    for folder_fn in tqdm_notebook(folders_paths, total=len(folders_paths)):\n",
    "        files = glob.glob(folder_fn + \"/*\")\n",
    "        for f in files:\n",
    "            try:\n",
    "                os.remove(f)\n",
    "            except IsADirectoryError:\n",
    "                print(f\"Oops, found a folder inside clearing folder. Skipping.\")"
   ]
  },
  {
   "cell_type": "code",
   "execution_count": 8,
   "metadata": {},
   "outputs": [],
   "source": [
    "def test_split_var1(df: pd.DataFrame, owner_name: str, N: int, M: int):\n",
    "    clear_folders([RUN_DIR, TRAIN_DIR, OWNER_DIR])\n",
    "    \n",
    "    # Split owner data\n",
    "    all_owner_meta_fns = df.loc[df.name == owner_name].user_fns.values[0]\n",
    "    random.shuffle(all_owner_meta_fns)\n",
    "    owner_meta_fns = random.sample(all_owner_meta_fns, k=M+1)\n",
    "    owner_train_meta_fns = [fn for fn in all_owner_meta_fns if fn not in owner_meta_fns]\n",
    "    owner_train_data_fns = [\"_\".join(fn.split(\"_\")[:-1]) + \".csv\" for fn in owner_train_meta_fns]\n",
    "    owner_main_fns = [owner_meta_fns[0], (\"_\".join(owner_meta_fns[0].split(\"_\")[:-1]) + \".csv\")]\n",
    "    owner_run_meta_fns = [fn for fn in owner_meta_fns[1:]]\n",
    "    owner_run_data_fns = [\"_\".join(fn.split(\"_\")[:-1]) + \".csv\" for fn in owner_run_meta_fns]\n",
    "    \n",
    "    # Select other users data\n",
    "    all_others_meta_fns = list(chain.from_iterable(df.loc[(df.n_sessions > df.n_sessions.mean()) &\n",
    "                                                         (df.name != owner_name)].user_fns.to_list()))\n",
    "    random.shuffle(all_others_meta_fns)\n",
    "    others_meta_fns = random.sample(all_others_meta_fns, k=N)\n",
    "    others_train_meta_fns = [fn for fn in all_others_meta_fns if fn not in others_meta_fns]\n",
    "    others_train_data_fns = [\"_\".join(fn.split(\"_\")[:-1]) + \".csv\" for fn in others_train_meta_fns]\n",
    "    others_run_meta_fns = [fn for fn in others_meta_fns]\n",
    "    others_run_data_fns = [\"_\".join(fn.split(\"_\")[:-1]) + \".csv\" for fn in others_run_meta_fns]\n",
    "    \n",
    "    print(f\"Owner all: {len(all_owner_meta_fns)}, train: {len(owner_train_meta_fns)},\"\n",
    "          f\" main: {len(owner_main_fns) // 2}, run: {len(owner_run_meta_fns)}\") \n",
    "    print(f\"Others all: {len(all_others_meta_fns)}, train: {len(others_train_meta_fns)}, run: {len(others_run_meta_fns)}\") \n",
    "    \n",
    "    # Copy owner data\n",
    "    copy_files_to_folder(owner_train_meta_fns + others_train_data_fns, TRAIN_DIR)\n",
    "    copy_files_to_folder(owner_main_fns, OWNER_DIR)\n",
    "    copy_files_to_folder(owner_run_meta_fns + owner_run_data_fns, RUN_DIR)\n",
    "    \n",
    "    # Copy others data\n",
    "    copy_files_to_folder(others_train_meta_fns + others_train_data_fns, TRAIN_DIR)\n",
    "    copy_files_to_folder(others_run_meta_fns + others_run_data_fns, RUN_DIR)\n",
    "    \n",
    "    print(\"Done coping!\")\n",
    "    return ({\n",
    "        \"owner_run\": owner_run_meta_fns + owner_run_data_fns,\n",
    "        \"owner_main\": owner_main_fns,\n",
    "        \"others_run\": others_run_meta_fns + others_run_data_fns\n",
    "    })"
   ]
  },
  {
   "cell_type": "code",
   "execution_count": 9,
   "metadata": {},
   "outputs": [
    {
     "data": {
      "application/vnd.jupyter.widget-view+json": {
       "model_id": "e0fd0c958bd14784883dcb7aaf700685",
       "version_major": 2,
       "version_minor": 0
      },
      "text/plain": [
       "HBox(children=(FloatProgress(value=0.0, max=3.0), HTML(value='')))"
      ]
     },
     "metadata": {},
     "output_type": "display_data"
    },
    {
     "name": "stdout",
     "output_type": "stream",
     "text": [
      "\n",
      "Owner all: 22, train: 17, main: 1, run: 4\n",
      "Others all: 161, train: 151, run: 10\n"
     ]
    },
    {
     "data": {
      "application/vnd.jupyter.widget-view+json": {
       "model_id": "f9d439b1d529425bafeb3281670dc2be",
       "version_major": 2,
       "version_minor": 0
      },
      "text/plain": [
       "HBox(children=(FloatProgress(value=0.0, max=168.0), HTML(value='')))"
      ]
     },
     "metadata": {},
     "output_type": "display_data"
    },
    {
     "name": "stdout",
     "output_type": "stream",
     "text": [
      "\n"
     ]
    },
    {
     "data": {
      "application/vnd.jupyter.widget-view+json": {
       "model_id": "39dd0f5beb834b0184d42d443e3b3307",
       "version_major": 2,
       "version_minor": 0
      },
      "text/plain": [
       "HBox(children=(FloatProgress(value=0.0, max=2.0), HTML(value='')))"
      ]
     },
     "metadata": {},
     "output_type": "display_data"
    },
    {
     "name": "stdout",
     "output_type": "stream",
     "text": [
      "\n"
     ]
    },
    {
     "data": {
      "application/vnd.jupyter.widget-view+json": {
       "model_id": "5277d72a35e546d2918bd565f95ed0e6",
       "version_major": 2,
       "version_minor": 0
      },
      "text/plain": [
       "HBox(children=(FloatProgress(value=0.0, max=8.0), HTML(value='')))"
      ]
     },
     "metadata": {},
     "output_type": "display_data"
    },
    {
     "name": "stdout",
     "output_type": "stream",
     "text": [
      "\n"
     ]
    },
    {
     "data": {
      "application/vnd.jupyter.widget-view+json": {
       "model_id": "4c3f3fb5beb74fab9d78810cecccbbd3",
       "version_major": 2,
       "version_minor": 0
      },
      "text/plain": [
       "HBox(children=(FloatProgress(value=0.0, max=302.0), HTML(value='')))"
      ]
     },
     "metadata": {},
     "output_type": "display_data"
    },
    {
     "name": "stdout",
     "output_type": "stream",
     "text": [
      "\n"
     ]
    },
    {
     "data": {
      "application/vnd.jupyter.widget-view+json": {
       "model_id": "f619e72edc234229987c7f21c23c5a62",
       "version_major": 2,
       "version_minor": 0
      },
      "text/plain": [
       "HBox(children=(FloatProgress(value=0.0, max=20.0), HTML(value='')))"
      ]
     },
     "metadata": {},
     "output_type": "display_data"
    },
    {
     "name": "stdout",
     "output_type": "stream",
     "text": [
      "\n",
      "Done coping!\n"
     ]
    }
   ],
   "source": [
    "data_fns = test_split_var1(users_df, \"Даниил Бонк\", N=10, M=4)"
   ]
  },
  {
   "cell_type": "markdown",
   "metadata": {},
   "source": [
    "# Тест №2. \n",
    "1. Выбирается владелец и одна **определенная** его запись (по наиментованию);\n",
    "2. Выбирается случайные N записей других пользователей (из числа тех, у кого записей больше среднего) и M записей владельца (случайных, кроме выбранной в п.1);\n",
    "3. Сохраняются в ранее определенные пути и выбранные N+M записей исключаются из обучающего набора."
   ]
  },
  {
   "cell_type": "code",
   "execution_count": 9,
   "metadata": {},
   "outputs": [],
   "source": [
    "def meta_to_data(fn: str):\n",
    "    return \"_\".join(fn.split(\"_\")[:-1]) + \".csv\"\n",
    "\n",
    "def data_to_meta(fn: str):\n",
    "    return \".\".join(fn.split(\".\")[:-1]) + \"_metadata.txt\""
   ]
  },
  {
   "cell_type": "code",
   "execution_count": 10,
   "metadata": {},
   "outputs": [],
   "source": [
    "def test_split_var2(df: pd.DataFrame, owner_name: str, \n",
    "                    owner_init_fn: str, N: int, M: int):\n",
    "    clear_folders([RUN_DIR, TRAIN_DIR, OWNER_DIR])\n",
    "    \n",
    "    # Split owner data\n",
    "    all_owner_meta_fns = df.loc[df.name == owner_name].user_fns.values[0]\n",
    "    random.shuffle(all_owner_meta_fns)\n",
    "    \n",
    "    # Select main owner data and meta files\n",
    "    owner_main_meta_fn = all_owner_meta_fns.pop(all_owner_meta_fns.index(owner_init_fn))\n",
    "    owner_main_fns = [owner_main_meta_fn, meta_to_data(owner_main_meta_fn)]\n",
    "    # Train owner data\n",
    "    owner_meta_fns = random.sample(all_owner_meta_fns, k=M+1)\n",
    "    owner_train_meta_fns = [fn for fn in all_owner_meta_fns if fn not in owner_meta_fns]\n",
    "    owner_train_data_fns = [meta_to_data(fn) for fn in owner_train_meta_fns]\n",
    "    # Run owner data\n",
    "    owner_run_meta_fns = [fn for fn in owner_meta_fns[1:]]\n",
    "    owner_run_data_fns = [\"_\".join(fn.split(\"_\")[:-1]) + \".csv\" for fn in owner_run_meta_fns]\n",
    "    \n",
    "    # Select other users data\n",
    "    all_others_meta_fns = list(chain.from_iterable(df.loc[(df.n_sessions > df.n_sessions.mean()) &\n",
    "                                                         (df.name != owner_name)].user_fns.to_list()))\n",
    "    random.shuffle(all_others_meta_fns)\n",
    "    others_meta_fns = random.sample(all_others_meta_fns, k=N)\n",
    "    others_train_meta_fns = [fn for fn in all_others_meta_fns if fn not in others_meta_fns]\n",
    "    others_train_data_fns = [meta_to_data(fn) for fn in others_train_meta_fns]\n",
    "    others_run_meta_fns = [fn for fn in others_meta_fns]\n",
    "    others_run_data_fns = [meta_to_data(fn) for fn in others_run_meta_fns]\n",
    "    \n",
    "    print(f\"Owner all: {len(all_owner_meta_fns)}, train: {len(owner_train_meta_fns)},\"\n",
    "          f\" main: {len(owner_main_fns) // 2}, run: {len(owner_run_meta_fns)}\") \n",
    "    print(f\"Others all: {len(all_others_meta_fns)}, train: {len(others_train_meta_fns)}, run: {len(others_run_meta_fns)}\") \n",
    "    \n",
    "    # Copy owner data\n",
    "    copy_files_to_folder(owner_train_meta_fns + others_train_data_fns, TRAIN_DIR)\n",
    "    copy_files_to_folder(owner_main_fns, OWNER_DIR)\n",
    "    copy_files_to_folder(owner_run_meta_fns + owner_run_data_fns, RUN_DIR)\n",
    "    \n",
    "    # Copy others data\n",
    "    copy_files_to_folder(others_train_meta_fns + others_train_data_fns, TRAIN_DIR)\n",
    "    copy_files_to_folder(others_run_meta_fns + others_run_data_fns, RUN_DIR)\n",
    "    \n",
    "    print(\"Done coping!\")\n",
    "    return ({\n",
    "        \"owner_run\": owner_run_meta_fns + owner_run_data_fns,\n",
    "        \"owner_main\": owner_main_fns,\n",
    "        \"others_run\": others_run_meta_fns + others_run_data_fns\n",
    "    })"
   ]
  },
  {
   "cell_type": "code",
   "execution_count": 12,
   "metadata": {},
   "outputs": [
    {
     "data": {
      "application/vnd.jupyter.widget-view+json": {
       "model_id": "f7149089501044cd802db489072e1ed8",
       "version_major": 2,
       "version_minor": 0
      },
      "text/plain": [
       "HBox(children=(FloatProgress(value=0.0, max=3.0), HTML(value='')))"
      ]
     },
     "metadata": {},
     "output_type": "display_data"
    },
    {
     "name": "stdout",
     "output_type": "stream",
     "text": [
      "\n",
      "Owner all: 21, train: 16, main: 1, run: 4\n",
      "Others all: 161, train: 151, run: 10\n"
     ]
    },
    {
     "data": {
      "application/vnd.jupyter.widget-view+json": {
       "model_id": "2439e83b927a4ab19f7b1d57957595d0",
       "version_major": 2,
       "version_minor": 0
      },
      "text/plain": [
       "HBox(children=(FloatProgress(value=0.0, max=167.0), HTML(value='')))"
      ]
     },
     "metadata": {},
     "output_type": "display_data"
    },
    {
     "name": "stdout",
     "output_type": "stream",
     "text": [
      "\n"
     ]
    },
    {
     "data": {
      "application/vnd.jupyter.widget-view+json": {
       "model_id": "1b670c4645f949d6ac9f6b94a76139ba",
       "version_major": 2,
       "version_minor": 0
      },
      "text/plain": [
       "HBox(children=(FloatProgress(value=0.0, max=2.0), HTML(value='')))"
      ]
     },
     "metadata": {},
     "output_type": "display_data"
    },
    {
     "name": "stdout",
     "output_type": "stream",
     "text": [
      "\n"
     ]
    },
    {
     "data": {
      "application/vnd.jupyter.widget-view+json": {
       "model_id": "5586a97b0be543ea8f6f38efcb85ef7e",
       "version_major": 2,
       "version_minor": 0
      },
      "text/plain": [
       "HBox(children=(FloatProgress(value=0.0, max=8.0), HTML(value='')))"
      ]
     },
     "metadata": {},
     "output_type": "display_data"
    },
    {
     "name": "stdout",
     "output_type": "stream",
     "text": [
      "\n"
     ]
    },
    {
     "data": {
      "application/vnd.jupyter.widget-view+json": {
       "model_id": "b562399402c349109f09753b9a23ef98",
       "version_major": 2,
       "version_minor": 0
      },
      "text/plain": [
       "HBox(children=(FloatProgress(value=0.0, max=302.0), HTML(value='')))"
      ]
     },
     "metadata": {},
     "output_type": "display_data"
    },
    {
     "name": "stdout",
     "output_type": "stream",
     "text": [
      "\n"
     ]
    },
    {
     "data": {
      "application/vnd.jupyter.widget-view+json": {
       "model_id": "c67c7a0a137847b2bb1766dbbe2de06b",
       "version_major": 2,
       "version_minor": 0
      },
      "text/plain": [
       "HBox(children=(FloatProgress(value=0.0, max=20.0), HTML(value='')))"
      ]
     },
     "metadata": {},
     "output_type": "display_data"
    },
    {
     "name": "stdout",
     "output_type": "stream",
     "text": [
      "\n",
      "Done coping!\n"
     ]
    },
    {
     "data": {
      "text/plain": [
       "{'owner_run': ['D:\\\\Data\\\\EyesSimulation Sessions\\\\Export3\\\\exp-2020-12-16_18-19-46_cat_f#1.mp4_metadata.txt',\n",
       "  'D:\\\\Data\\\\EyesSimulation Sessions\\\\Export3\\\\exp-2020-12-16_18-18-23_cat_s#1.mp4_metadata.txt',\n",
       "  'D:\\\\Data\\\\EyesSimulation Sessions\\\\Export3\\\\exp-2020-12-16_18-17-09_cat_f#1.mp4_metadata.txt',\n",
       "  'D:\\\\Data\\\\EyesSimulation Sessions\\\\Export3\\\\exp-2020-12-15_15-17-19_cat_f#1.mp4_metadata.txt',\n",
       "  'D:\\\\Data\\\\EyesSimulation Sessions\\\\Export3\\\\exp-2020-12-16_18-19-46_cat_f#1.mp4.csv',\n",
       "  'D:\\\\Data\\\\EyesSimulation Sessions\\\\Export3\\\\exp-2020-12-16_18-18-23_cat_s#1.mp4.csv',\n",
       "  'D:\\\\Data\\\\EyesSimulation Sessions\\\\Export3\\\\exp-2020-12-16_18-17-09_cat_f#1.mp4.csv',\n",
       "  'D:\\\\Data\\\\EyesSimulation Sessions\\\\Export3\\\\exp-2020-12-15_15-17-19_cat_f#1.mp4.csv'],\n",
       " 'owner_main': ['D:\\\\Data\\\\EyesSimulation Sessions\\\\Export3\\\\exp-2020-12-16_18-19-00_cat_s#1.mp4_metadata.txt',\n",
       "  'D:\\\\Data\\\\EyesSimulation Sessions\\\\Export3\\\\exp-2020-12-16_18-19-00_cat_s#1.mp4.csv'],\n",
       " 'others_run': ['D:\\\\Data\\\\EyesSimulation Sessions\\\\Export3\\\\exp-2020-12-16_18-03-44_cat_f#1.mp4_metadata.txt',\n",
       "  'D:\\\\Data\\\\EyesSimulation Sessions\\\\Export3\\\\exp-2020-12-16_18-05-37_cat_f#1.mp4_metadata.txt',\n",
       "  'D:\\\\Data\\\\EyesSimulation Sessions\\\\Export3\\\\exp-2020-12-16_12-16-12_cat_f#1.mp4_metadata.txt',\n",
       "  'D:\\\\Data\\\\EyesSimulation Sessions\\\\Export3\\\\exp-2020-12-15_16-04-32_cat_f#1.mp4_metadata.txt',\n",
       "  'D:\\\\Data\\\\EyesSimulation Sessions\\\\Export3\\\\exp-2020-12-16_20-09-00_cat_f#1.mp4_metadata.txt',\n",
       "  'D:\\\\Data\\\\EyesSimulation Sessions\\\\Export3\\\\exp-2020-12-15_15-05-46_cat_s#1.mp4_metadata.txt',\n",
       "  'D:\\\\Data\\\\EyesSimulation Sessions\\\\Export3\\\\exp-2020-12-15_16-01-08_cat_s#1.mp4_metadata.txt',\n",
       "  'D:\\\\Data\\\\EyesSimulation Sessions\\\\Export3\\\\exp-2020-12-15_15-54-29_cat_s#1.mp4_metadata.txt',\n",
       "  'D:\\\\Data\\\\EyesSimulation Sessions\\\\Export3\\\\exp-2020-12-15_18-09-54_cat_s#1.mp4_metadata.txt',\n",
       "  'D:\\\\Data\\\\EyesSimulation Sessions\\\\Export3\\\\exp-2020-12-16_20-08-20_cat_s#1.mp4_metadata.txt',\n",
       "  'D:\\\\Data\\\\EyesSimulation Sessions\\\\Export3\\\\exp-2020-12-16_18-03-44_cat_f#1.mp4.csv',\n",
       "  'D:\\\\Data\\\\EyesSimulation Sessions\\\\Export3\\\\exp-2020-12-16_18-05-37_cat_f#1.mp4.csv',\n",
       "  'D:\\\\Data\\\\EyesSimulation Sessions\\\\Export3\\\\exp-2020-12-16_12-16-12_cat_f#1.mp4.csv',\n",
       "  'D:\\\\Data\\\\EyesSimulation Sessions\\\\Export3\\\\exp-2020-12-15_16-04-32_cat_f#1.mp4.csv',\n",
       "  'D:\\\\Data\\\\EyesSimulation Sessions\\\\Export3\\\\exp-2020-12-16_20-09-00_cat_f#1.mp4.csv',\n",
       "  'D:\\\\Data\\\\EyesSimulation Sessions\\\\Export3\\\\exp-2020-12-15_15-05-46_cat_s#1.mp4.csv',\n",
       "  'D:\\\\Data\\\\EyesSimulation Sessions\\\\Export3\\\\exp-2020-12-15_16-01-08_cat_s#1.mp4.csv',\n",
       "  'D:\\\\Data\\\\EyesSimulation Sessions\\\\Export3\\\\exp-2020-12-15_15-54-29_cat_s#1.mp4.csv',\n",
       "  'D:\\\\Data\\\\EyesSimulation Sessions\\\\Export3\\\\exp-2020-12-15_18-09-54_cat_s#1.mp4.csv',\n",
       "  'D:\\\\Data\\\\EyesSimulation Sessions\\\\Export3\\\\exp-2020-12-16_20-08-20_cat_s#1.mp4.csv']}"
      ]
     },
     "execution_count": 12,
     "metadata": {},
     "output_type": "execute_result"
    }
   ],
   "source": [
    "data_fns = test_split_var2(users_df, \"Даниил Бонк\", \n",
    "                              'D:\\\\Data\\\\EyesSimulation Sessions\\\\Export3\\\\exp-2020-12-16_18-19-00_cat_s#1.mp4_metadata.txt',\n",
    "                               N=10, M=4)\n",
    "\n",
    "data_fns"
   ]
  },
  {
   "cell_type": "code",
   "execution_count": null,
   "metadata": {},
   "outputs": [],
   "source": []
  }
 ],
 "metadata": {
  "kernelspec": {
   "display_name": "Python 3",
   "language": "python",
   "name": "python3"
  },
  "language_info": {
   "codemirror_mode": {
    "name": "ipython",
    "version": 3
   },
   "file_extension": ".py",
   "mimetype": "text/x-python",
   "name": "python",
   "nbconvert_exporter": "python",
   "pygments_lexer": "ipython3",
   "version": "3.7.3"
  }
 },
 "nbformat": 4,
 "nbformat_minor": 4
}
